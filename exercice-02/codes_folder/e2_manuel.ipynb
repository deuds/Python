{
 "cells": [
  {
   "cell_type": "code",
   "execution_count": null,
   "metadata": {},
   "outputs": [],
   "source": [
    "# questions pour definir le nombre d'oeufs, de bouteilles de lait et l'heure courante\n",
    "heure_cour = ()\n",
    "minute_cour = ()\n",
    "while heure_cour<0 and heure_cour >=24:\n",
    "    heure_cour = input(\"Donner l'heure souhaité :\")\n",
    "while minute_cour<0 and minute_cour > 59\n",
    "    minute_cour = "
   ]
  }
 ],
 "metadata": {
  "language_info": {
   "name": "python"
  },
  "orig_nbformat": 4
 },
 "nbformat": 4,
 "nbformat_minor": 2
}
