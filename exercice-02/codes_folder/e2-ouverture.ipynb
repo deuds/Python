{
 "cells": [
  {
   "cell_type": "code",
   "execution_count": 83,
   "metadata": {},
   "outputs": [
    {
     "name": "stdout",
     "output_type": "stream",
     "text": [
      "Il est actuellement  23  heure et  44 minutes\n",
      "MATIN : \n",
      " ouverture :  8 \n",
      " fermeture :  12\n",
      "APRES-MIDI : \n",
      " ouverture :  14 \n",
      " fermeture :  18\n",
      "😡 FERME 😡\n"
     ]
    }
   ],
   "source": [
    "# l'épicerie est elle ouverte ?\n",
    "# fonction avec en entrée une variable par défaut aléatoire pourvant etre forcée a une valeur fixe\n",
    "\n",
    "# *********************************\n",
    "# import de la bibliotheque numpy pour l'aléatoire a sortir de la fonction dans un deuxieme temps\n",
    "from numpy.random import randint\n",
    "\n",
    "# definition aléatoire des horaires\n",
    "heure_cour = randint(0,24)\n",
    "minute_cour = randint(0,60)\n",
    "\n",
    "# Affichage de l'heure choisie ou tirée au sort\n",
    "print (\"Il est actuellement \",heure_cour,\" heure et \",minute_cour,\"minutes\")\n",
    "\n",
    "# Définition des heures d'ouverture\n",
    "horaires = (8,12,14,18)\n",
    "# convertion heure en minutes pour faciliter les tests\n",
    "hm_cour = (heure_cour*60+minute_cour)\n",
    "\n",
    "# Affichage des horaires d'ouverture\n",
    "print (\"MATIN :\",\"\\n ouverture : \",horaires[0],\"\\n fermeture : \",horaires[1])\n",
    "print (\"APRES-MIDI :\",\"\\n ouverture : \",horaires[2],\"\\n fermeture : \",horaires[3])    \n",
    "\n",
    "# test si l'épicerie ouverte \n",
    "if (((hm_cour) >= (horaires[0]*60)) and ((hm_cour) <= (horaires[1]*60)) \n",
    "or ((hm_cour) >= horaires[2]*60) and ((hm_cour) <= horaires[3]*60)):\n",
    "    print(\"👍 OUVERT 👍\")\n",
    "else:\n",
    "    print(\"😡 FERME 😡\")"
   ]
  }
 ],
 "metadata": {
  "interpreter": {
   "hash": "ad2bdc8ecc057115af97d19610ffacc2b4e99fae6737bb82f5d7fb13d2f2c186"
  },
  "kernelspec": {
   "display_name": "Python 3.9.12 ('base')",
   "language": "python",
   "name": "python3"
  },
  "language_info": {
   "codemirror_mode": {
    "name": "ipython",
    "version": 3
   },
   "file_extension": ".py",
   "mimetype": "text/x-python",
   "name": "python",
   "nbconvert_exporter": "python",
   "pygments_lexer": "ipython3",
   "version": "3.9.12"
  },
  "orig_nbformat": 4
 },
 "nbformat": 4,
 "nbformat_minor": 2
}
