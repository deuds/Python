{
 "cells": [
  {
   "cell_type": "code",
   "execution_count": 4,
   "metadata": {},
   "outputs": [
    {
     "name": "stdout",
     "output_type": "stream",
     "text": [
      "le stock d'oeufs est de :  21  oeufs\n",
      "🥚🥚🥚🥚🥚🥚🥚🥚🥚🥚🥚🥚🥚🥚🥚🥚🥚🥚🥚🥚🥚\n",
      "le stock de lait est de :  20  bouteilles\n",
      "🍼🍼🍼🍼🍼🍼🍼🍼🍼🍼🍼🍼🍼🍼🍼🍼🍼🍼🍼🍼\n"
     ]
    }
   ],
   "source": [
    "# Combien il y a t il d'oeufs\n",
    "# fonction definissant le nombre d'Oeufs de façon aléatoire avec possibilité de forcer la quantité\n",
    "from numpy.random import randint\n",
    "\n",
    "# def fonc_nboeufslait (nbr_oeufs = randint(0,24))\n",
    "nbr_oeufs = randint(0,24)\n",
    "nbr_lait = randint(0,24)\n",
    "print(\"le stock d'oeufs est de : \",nbr_oeufs,\" oeufs\")\n",
    "print('🥚'*nbr_oeufs)\n",
    "print(\"le stock de lait est de : \",nbr_lait,\" bouteilles\")\n",
    "print('🍼'*nbr_lait)\n",
    "# return (nbr_oeufs)\n"
   ]
  }
 ],
 "metadata": {
  "interpreter": {
   "hash": "a37869d91db9e4f8707847499683064f3c910b4697ac3b710908f94f17b4a718"
  },
  "kernelspec": {
   "display_name": "Python 3.9.13 64-bit (windows store)",
   "language": "python",
   "name": "python3"
  },
  "language_info": {
   "codemirror_mode": {
    "name": "ipython",
    "version": 3
   },
   "file_extension": ".py",
   "mimetype": "text/x-python",
   "name": "python",
   "nbconvert_exporter": "python",
   "pygments_lexer": "ipython3",
   "version": "3.9.13"
  },
  "orig_nbformat": 4
 },
 "nbformat": 4,
 "nbformat_minor": 2
}
