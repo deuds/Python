{
 "cells": [
  {
   "cell_type": "markdown",
   "metadata": {},
   "source": [
    "#### On va à l'épicerie \n",
    "##### si elle est ouverte (08:00-12:00 14:00-18:00 )\n",
    "##### On prends 6 oeufs maximum s'il y en a 6 sinon on prends tout ce qu'il y a\n",
    "##### On prends 4 bouteilles de lait maximum s'il y en a 4 sinon on prends tout ce qu'il y a\n",
    "##### On fini avec ce qu'on veut\n",
    "##### 12 euros max pour les produits\n",
    "> oeufs: 50cts pièce \n",
    "> \n",
    "> 1,5€ pour 1 bouteille de lait\n",
    "> \n",
    "> 48 cts pour la bière\n",
    "> \n",
    "> 1 euros pour le chocolat"
   ]
  },
  {
   "cell_type": "code",
   "execution_count": 1,
   "metadata": {},
   "outputs": [],
   "source": [
    "H_Matin_Min = 8*60\n",
    "H_Matin_Max = 12*60\n",
    "H_Midi_Min = 14*60\n",
    "H_Midi_Max = 18*60\n",
    "\n"
   ]
  },
  {
   "cell_type": "code",
   "execution_count": 2,
   "metadata": {},
   "outputs": [],
   "source": [
    "def magasin_ouvert(heure,minute):\n",
    "\n",
    "    if heure<0 or heure > 23 or minute<0 or minute>59 or type(heure)!=int or type(minute)!=int:\n",
    "        print(\"Heure invalide\")\n",
    "        return False\n",
    "\n",
    "    le_temps = heure*60 + minute\n",
    "    if ( (le_temps>=H_Matin_Min and le_temps<=H_Matin_Max) or (le_temps>=H_Midi_Min and le_temps<=H_Midi_Max)):\n",
    "        return True\n",
    "    else:\n",
    "        return False"
   ]
  },
  {
   "cell_type": "code",
   "execution_count": 1,
   "metadata": {},
   "outputs": [
    {
     "name": "stdout",
     "output_type": "stream",
     "text": [
      "Budget :  12\n",
      "Heure de sortie :  15 h 6\n"
     ]
    }
   ],
   "source": [
    "from numpy.random import randint \n",
    "\n",
    "def LeMec(budget = 12):\n",
    "    heure_de_sortie = randint(24)\n",
    "    minute_de_sortie = randint(60)\n",
    "    return budget,heure_de_sortie,minute_de_sortie\n",
    "\n",
    "budget,heure_de_sortie,minute_de_sortie = LeMec()\n",
    "print(\"Budget : \",budget)\n",
    "print(\"Heure de sortie : \",heure_de_sortie,\"h\",minute_de_sortie)\n"
   ]
  },
  {
   "cell_type": "markdown",
   "metadata": {},
   "source": [
    "## OPTIONS: Distance, mode de deplacement et du coup le temps de trajet"
   ]
  },
  {
   "cell_type": "code",
   "execution_count": 5,
   "metadata": {},
   "outputs": [
    {
     "name": "stdout",
     "output_type": "stream",
     "text": [
      "Nombre d'oeufs :  2\n",
      "Nombre de lait :  6\n"
     ]
    }
   ],
   "source": [
    "def init_shop():\n",
    "    # le nombre d'oeufs\n",
    "    nb_oeufs = randint(10)\n",
    "    # le nombre de lait\n",
    "    nb_lait = randint(10)\n",
    "    return nb_oeufs,nb_lait\n",
    "\n",
    "nb_oeufs,nb_lait = init_shop()\n",
    "print(\"Nombre d'oeufs : \",nb_oeufs)\n",
    "print(\"Nombre de lait : \",nb_lait)"
   ]
  },
  {
   "cell_type": "code",
   "execution_count": 6,
   "metadata": {},
   "outputs": [
    {
     "data": {
      "text/plain": [
       "{'oeuf': 0.5, 'lait': 1.5, 'biere': 0.48, 'chocolat': 1}"
      ]
     },
     "execution_count": 6,
     "metadata": {},
     "output_type": "execute_result"
    }
   ],
   "source": [
    "def dico_prix():\n",
    "    tarif = dict()\n",
    "    tarif['oeuf'] = .5 \n",
    "    tarif['lait'] = 1.5 \n",
    "    tarif['biere'] = .48\n",
    "    tarif['chocolat'] = 1\n",
    "    return tarif\n",
    "dico_prix()    "
   ]
  },
  {
   "cell_type": "markdown",
   "metadata": {},
   "source": [
    "# CODE PRINCIPALE"
   ]
  },
  {
   "cell_type": "code",
   "execution_count": 7,
   "metadata": {},
   "outputs": [],
   "source": [
    "def affichage(dict_sac,budget,nb_oeufs,nb_lait):\n",
    "    print( \"Magasin \\n- oeufs:\",nb_oeufs, \"\\n- lait:\",nb_lait)\n",
    "    print(\"Sac :\")\n",
    "    for cle in dict_sac:\n",
    "        print('- ',cle,\":\",dict_sac[cle])\n",
    "    print(\"Budget : \",budget)"
   ]
  },
  {
   "cell_type": "code",
   "execution_count": 8,
   "metadata": {},
   "outputs": [],
   "source": [
    "tarif = dico_prix()\n",
    "nb_oeufs,nb_lait = init_shop()\n",
    "budget,heure_de_sortie,minute_de_sortie = LeMec()\n",
    "\n",
    "dict_sac = dict()\n",
    "\n",
    "if magasin_ouvert(heure_de_sortie,minute_de_sortie):\n",
    "    print(\"Le magasin est ouvert\")\n",
    "    # regarder si y'a des oeufs \n",
    "    if nb_oeufs>6:\n",
    "        dict_sac['oeuf'] = 6\n",
    "    else: \n",
    "        dict_sac['oeuf'] = nb_oeufs\n",
    "\n",
    "    budget -= tarif['oeuf']*dict_sac['oeuf']\n",
    "    \n",
    "\n",
    "    affichage(dict_sac,budget,nb_oeufs,nb_lait)\n",
    "    "
   ]
  },
  {
   "cell_type": "code",
   "execution_count": 9,
   "metadata": {},
   "outputs": [
    {
     "data": {
      "text/plain": [
       "{}"
      ]
     },
     "execution_count": 9,
     "metadata": {},
     "output_type": "execute_result"
    }
   ],
   "source": [
    "dict_sac"
   ]
  }
 ],
 "metadata": {
  "interpreter": {
   "hash": "a37869d91db9e4f8707847499683064f3c910b4697ac3b710908f94f17b4a718"
  },
  "kernelspec": {
   "display_name": "Python 3.9.13 64-bit (windows store)",
   "language": "python",
   "name": "python3"
  },
  "language_info": {
   "codemirror_mode": {
    "name": "ipython",
    "version": 3
   },
   "file_extension": ".py",
   "mimetype": "text/x-python",
   "name": "python",
   "nbconvert_exporter": "python",
   "pygments_lexer": "ipython3",
   "version": "3.9.13"
  },
  "orig_nbformat": 4
 },
 "nbformat": 4,
 "nbformat_minor": 2
}
