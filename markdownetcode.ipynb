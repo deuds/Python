{
 "cells": [
  {
   "cell_type": "markdown",
   "metadata": {},
   "source": [
    "# Intitiation au code Markdown de\n"
   ]
  },
  {
   "cell_type": "markdown",
   "metadata": {},
   "source": [
    "1. Installation de Markdown All in One\n",
    "2. Installation de Markdown Preview\n",
    "\n",
    "Si extention en py = code Python\n",
    "Si extention en ipynd = melange code et Mardown\n",
    "Si extention en md = only mardown\n",
    "   "
   ]
  },
  {
   "cell_type": "markdown",
   "metadata": {},
   "source": [
    "# Titre H1\n",
    "## Titre H2\n",
    "### Titre H3\n",
    "\n",
    "1. Numerotation\n",
    "   1. Sous Numerotation\n",
    "2. Suite\n",
    "\n",
    "> section\n",
    "\n",
    "``` exemple de code ```\n",
    "\n",
    "\n",
    "*italic*\n",
    "**bold**\n",
    "***bold italic***\n",
    "\n",
    "> exemple indentation :\n",
    "```python\n",
    "def fonction (n)\n",
    "   if n < 2:\n",
    "      return 1\n",
    "\n",
    "\n",
    "\n",
    "Sous python c'est l indentation (les tabulations) \n",
    "qui font l'imbrication des codes. \n",
    "La tabulation crée le lien entre les instruction,\n",
    "donc la mise en page du code est tres ilportante\n",
    "\n"
   ]
  },
  {
   "cell_type": "markdown",
   "metadata": {},
   "source": [
    "# Type de données\n",
    "> test de programme remontant le type de données\n",
    "\n",
    "```python\n",
    "i = 0.1\n",
    "print (type (i))\n",
    "print (i)\n",
    "\n",
    "a = True\n",
    "print (type (a))\n",
    "print (a)"
   ]
  },
  {
   "cell_type": "code",
   "execution_count": null,
   "metadata": {},
   "outputs": [
    {
     "name": "stdout",
     "output_type": "stream",
     "text": [
      "<class 'float'>\n",
      "0.1\n",
      "<class 'bool'>\n",
      "True\n"
     ]
    }
   ],
   "source": [
    "i = 0.1\n",
    "print (type (i))\n",
    "print (i)\n",
    "\n",
    "a = True\n",
    "print (type (a))\n",
    "print (a)\n",
    "\n"
   ]
  }
 ],
 "metadata": {
  "interpreter": {
   "hash": "1d63f421d0b44b8fbe361afa7f3185a3bd9135445dc52a58b64c3a5880331a42"
  },
  "kernelspec": {
   "display_name": "Python 3.9.12 ('base')",
   "language": "python",
   "name": "python3"
  },
  "language_info": {
   "codemirror_mode": {
    "name": "ipython",
    "version": 3
   },
   "file_extension": ".py",
   "mimetype": "text/x-python",
   "name": "python",
   "nbconvert_exporter": "python",
   "pygments_lexer": "ipython3",
   "version": "3.9.12"
  },
  "orig_nbformat": 4
 },
 "nbformat": 4,
 "nbformat_minor": 2
}
