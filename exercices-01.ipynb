{
 "cells": [
  {
   "cell_type": "markdown",
   "metadata": {},
   "source": [
    "> Quelques petit exercices à mettre en pratique (jupyter+commentaire+github) pour tester ce que l’on a déjà vu, pour prendre une valeur du clavier on utilise la fonction: \n",
    "> - input(“question: “) \n",
    "Ecrire un programme qui à partir d’une valeur d’un nombre vous dit/donne:\n",
    "\n",
    "### EX1. paire ou impaire"
   ]
  },
  {
   "cell_type": "code",
   "execution_count": null,
   "metadata": {},
   "outputs": [],
   "source": [
    "# mon_nombre = int(input(\"Donner un nombre :\"))\n",
    "# type_valeur = str()\n",
    "type_valeur = False\n",
    "while type_valeur == False:\n",
    "    ma_valeur = input(\"Donner un nombre :\")\n",
    "    # print(mon_nombre)\n",
    "    type_valeur = ma_valeur.isdecimal()\n",
    "    # print(type_valeur)\n",
    "    if type_valeur : \n",
    "        print(\"la valeur \",ma_valeur,\" est bien un nombre\")\n",
    "        test = int (ma_valeur)\n",
    "        if test % 2 == 0:\n",
    "            print (ma_valeur,\" est pair\")\n",
    "        else:\n",
    "            print (ma_valeur,\" est Impair\")\n",
    "    else: \n",
    "        print(ma_valeur,\" n'est pas un nombre\")\n"
   ]
  },
  {
   "cell_type": "markdown",
   "metadata": {},
   "source": [
    "### EX2. 80% du chiffre d’entré et se répète jusqu’à ce que l’on lui donne 0 (arrêt)"
   ]
  },
  {
   "cell_type": "code",
   "execution_count": null,
   "metadata": {},
   "outputs": [],
   "source": [
    "\n",
    "ma_valeur = 1\n",
    "while ma_valeur != 0 :\n",
    "    ma_valeur = int(input(\"Donner un nombre :\"))\n",
    "    print (\"Le nombre saisi au depart est : \",ma_valeur)\n",
    "    ma_valeur = 0.8*ma_valeur\n",
    "    print (ma_valeur)\n"
   ]
  },
  {
   "cell_type": "markdown",
   "metadata": {},
   "source": [
    "### EX3. une liste composée des 10 chiffres données un par un ainsi que les statistiques minimum de cette liste (minimum, maximum, moyenne, somme et médiane)\n"
   ]
  },
  {
   "cell_type": "code",
   "execution_count": null,
   "metadata": {},
   "outputs": [],
   "source": [
    "ma_list = list()\n",
    "# count = int()\n",
    "# print (count)\n",
    "\n",
    "for count in range(0,10,1):\n",
    "    type_valeur = False\n",
    "    while type_valeur == False:\n",
    "        ma_valeur = input(\"Donner un nombre :\")\n",
    "        type_valeur = ma_valeur.isdecimal()\n",
    "        if type_valeur : \n",
    "            print(\"la valeur \",ma_valeur,\" est bien un nombre\")\n",
    "            ma_valeur = int(ma_valeur)\n",
    "            ma_list.append(ma_valeur)\n",
    "        else: \n",
    "            print(ma_valeur,\" n'est pas un nombre\")\n",
    "    print (count)\n",
    "    print (ma_list)\n",
    "    \n",
    "\n",
    "print (\"ma liste est la suivante :\",ma_list)\n",
    "print (\"la somme des éléments de la liste est : \",sum(ma_list))\n",
    "print (\"La valeur minimum est : \",min(ma_list))\n",
    "print (\"La valeur maximum est : \",max(ma_list))\n",
    "print (\"La valeur moyenne est : \",sum(ma_list)/10)\n"
   ]
  },
  {
   "cell_type": "markdown",
   "metadata": {},
   "source": [
    "### EX4. une liste composée des chiffres données, qui s’arrête lorsque l’on lui donne un chiffre négatif et qui vous affiche la liste ainsi que sa longueur"
   ]
  },
  {
   "cell_type": "code",
   "execution_count": 166,
   "metadata": {},
   "outputs": [
    {
     "name": "stdout",
     "output_type": "stream",
     "text": [
      "6645\n",
      "isdecimal True\n",
      "isalpha False\n",
      "isnumeric True\n",
      "isalnum True\n",
      "isdigit True\n",
      "islower False\n",
      "isupper False\n",
      "6645\n",
      "<class 'int'>\n",
      "True\n"
     ]
    }
   ],
   "source": [
    "ma_valeur = int()\n",
    "ma_valeur = input(\"nombre :\")\n",
    "\n",
    "print (ma_valeur)\n",
    "print (\"isdecimal\",ma_valeur.isdecimal())\n",
    "print (\"isalpha\",ma_valeur.isalpha())\n",
    "print (\"isnumeric\",ma_valeur.isnumeric())\n",
    "print (\"isalnum\",ma_valeur.isalnum())\n",
    "print (\"isdigit\",ma_valeur.isdigit())\n",
    "print (\"islower\",ma_valeur.islower())\n",
    "print (\"isupper\",ma_valeur.isupper())\n",
    "mon_nombre = int(ma_valeur)\n",
    "print (mon_nombre)\n",
    "print (type(mon_nombre))\n",
    "print (mon_nombre > 0)\n"
   ]
  },
  {
   "cell_type": "code",
   "execution_count": null,
   "metadata": {},
   "outputs": [],
   "source": [
    "ma_list = list()\n",
    "mon_nombre = int()\n",
    "ma_valeur = int()\n",
    "count = int()\n",
    "while mon_nombre >= 0:\n",
    "    type_valeur = False\n",
    "    while type_valeur == False:\n",
    "        ma_valeur = input(\"Donner un nombre :\")\n",
    "        mon_nombre = int(ma_valeur)\n",
    "        print (type(mon_nombre))\n",
    "        type_valeur = ma_valeur.isdecimal()\n",
    "        if type_valeur : \n",
    "            print(\"la valeur \",mon_nombre,\" est bien un nombre\")\n",
    "        ma_list.append(mon_nombre)\n",
    "        else: \n",
    "            print(mon_nombre,\" n'est pas un nombre\")\n",
    "    print (count)\n",
    "    print (ma_list)\n"
   ]
  },
  {
   "cell_type": "code",
   "execution_count": null,
   "metadata": {},
   "outputs": [],
   "source": [
    "# Verion Simplifiée sans test de caracteres\n",
    "ma_list = list()\n",
    "# nbr = int(0)\n",
    "nbr = 0\n",
    "mon_nombre = 1\n",
    "while mon_nombre >= 0:\n",
    "    nbr+=1\n",
    "    ma_valeur = input(\"Donner un nombre :\")\n",
    "    mon_nombre = int(ma_valeur)\n",
    "    ma_list.append(mon_nombre)\n",
    "    print (ma_list)\n",
    "    print (nbr)\n",
    "nbr-=1\n",
    "print (nbr)\n",
    "del(ma_list[nbr])\n",
    "print (\"il y a \",nbr,\" éléments dans la liste\")\n",
    "print (\"voici la liste : \",ma_list)\n",
    "\n"
   ]
  },
  {
   "cell_type": "markdown",
   "metadata": {},
   "source": [
    "### EX5. Proposera tour à tour d’entrer une clé et une valeur pour:\n",
    "- Créer une liste dans une liste\n",
    "- Créer un dictionnaire\n",
    "\n",
    "S’arrête quand la clé entrée est “STOP” ou “stop” ou “StOp” etc… \n"
   ]
  },
  {
   "cell_type": "code",
   "execution_count": null,
   "metadata": {},
   "outputs": [],
   "source": []
  },
  {
   "cell_type": "markdown",
   "metadata": {},
   "source": [
    "### EX6. une liste composée des chiffres donnés, \n",
    "- qui s’arrête lorsque l’on lui donne “STOP” ou “stop” etc… \n",
    "- qui vous affiche la liste ainsi que la somme calculée manuellement en utilisant une variable temporaire qui additionnera tous les nombres de la liste"
   ]
  },
  {
   "cell_type": "code",
   "execution_count": null,
   "metadata": {},
   "outputs": [],
   "source": []
  }
 ],
 "metadata": {
  "interpreter": {
   "hash": "1d63f421d0b44b8fbe361afa7f3185a3bd9135445dc52a58b64c3a5880331a42"
  },
  "kernelspec": {
   "display_name": "Python 3.9.12 ('base')",
   "language": "python",
   "name": "python3"
  },
  "language_info": {
   "codemirror_mode": {
    "name": "ipython",
    "version": 3
   },
   "file_extension": ".py",
   "mimetype": "text/x-python",
   "name": "python",
   "nbconvert_exporter": "python",
   "pygments_lexer": "ipython3",
   "version": "3.9.12"
  },
  "orig_nbformat": 4
 },
 "nbformat": 4,
 "nbformat_minor": 2
}
