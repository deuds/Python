{
 "cells": [
  {
   "cell_type": "markdown",
   "metadata": {},
   "source": [
    "Création de la premiere class"
   ]
  },
  {
   "cell_type": "code",
   "execution_count": 58,
   "metadata": {},
   "outputs": [
    {
     "name": "stdout",
     "output_type": "stream",
     "text": [
      "cette machine possede : \n",
      "2 cpu \n",
      "4 Go de RAM\n",
      "240 Go de stockage\n",
      "avec des disque de type ssd\n",
      "cette machine possede : \n",
      "4 cpu \n",
      "8 Go de RAM\n",
      "512 Go de stockage\n",
      "avec des disque de type ssd\n"
     ]
    }
   ],
   "source": [
    "class ordinateur:\n",
    "    def __init__(self,cpu,ram,sto,t_s):\n",
    "        self.cpu = cpu\n",
    "        self.ram = ram\n",
    "        self.sto = sto\n",
    "        self.t_s = t_s\n",
    "        # print (\"creation du nouvel ordinateur appelé :{}\\n cette machine possede : \\n{} cpu \\n{} Go de RAM\\n{} Go de stockage\\navec des disque de type {}\".format(self,self.cpu,self.ram,self.sto,self.t_s))\n",
    "    # def affiche(self):\n",
    "        # print(\"cette machine possede : \\n{} cpu \\n{} Go de RAM\\n{} Go de stockage\\navec des disque de type {}\".format(self.cpu,self.ram,self.sto,self.t_s))\n",
    "        # print (self.cpu,self.ram,self.ram,self.t_s)\n",
    "    def __str__(self):\n",
    "       return(\"cette machine possede : \\n{} cpu \\n{} Go de RAM\\n{} Go de stockage\\navec des disque de type {}\".format(self.cpu,self.ram,self.sto,self.t_s))\n",
    "\n",
    "ordi1 = ordinateur(2,4,240,\"ssd\")\n",
    "ordi2 = ordinateur(4, 8, 512, \"ssd\")\n",
    "\n",
    "print(ordi1)\n",
    "print(ordi2)\n",
    "\n",
    "\n"
   ]
  },
  {
   "cell_type": "code",
   "execution_count": 55,
   "metadata": {},
   "outputs": [
    {
     "name": "stdout",
     "output_type": "stream",
     "text": [
      "creation du nouvel ordinateur \n",
      " cette machine possede : \n",
      "2 cpu \n",
      "4 Go de RAM\n",
      "240 Go de stockage\n",
      "avec des disque de type ssd\n"
     ]
    }
   ],
   "source": [
    "class ordinateur:\n",
    "    def __init__(self,cpu,ram,sto,t_s):\n",
    "        self.cpu = cpu\n",
    "        self.ram = ram\n",
    "        self.sto = sto\n",
    "        self.t_s = t_s\n",
    "    # print (\"creation du nouvel ordinateur appelé :{}\\n cette machine possede : \\n{} cpu \\n{} Go de RAM\\n{} Go de stockage\\navec des disques de type {}\".format(self,self.cpu,self.ram,self.sto,self.t_s))\n",
    "    # def affiche(self):\n",
    "    #     print(\"cette machine possede : \\n{} cpu \\n{} Go de RAM\\n{} Go de stockage\\navec des disques de type {}\".format(self.cpu,self.ram,self.sto,self.t_s))\n",
    "    #     print (self.cpu,self.ram,self.ram,self.t_s)\n",
    "    def __str__(self):\n",
    "       return \"creation du nouvel ordinateur \\n cette machine possede : \\n{} cpu \\n{} Go de RAM\\n{} Go de stockage\\navec des disques de type {}\".format(self.cpu,self.ram,self.sto,self.t_s)\n",
    "\n",
    "ordi1 = ordinateur(2,4,240,\"ssd\")\n",
    "\n",
    "print(ordi1)\n",
    "\n"
   ]
  }
 ],
 "metadata": {
  "interpreter": {
   "hash": "a37869d91db9e4f8707847499683064f3c910b4697ac3b710908f94f17b4a718"
  },
  "kernelspec": {
   "display_name": "Python 3.9.13 64-bit (windows store)",
   "language": "python",
   "name": "python3"
  },
  "language_info": {
   "codemirror_mode": {
    "name": "ipython",
    "version": 3
   },
   "file_extension": ".py",
   "mimetype": "text/x-python",
   "name": "python",
   "nbconvert_exporter": "python",
   "pygments_lexer": "ipython3",
   "version": "3.9.13"
  },
  "orig_nbformat": 4
 },
 "nbformat": 4,
 "nbformat_minor": 2
}
