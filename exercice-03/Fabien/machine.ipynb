{
 "cells": [
  {
   "cell_type": "code",
   "execution_count": 2,
   "metadata": {},
   "outputs": [
    {
     "name": "stdout",
     "output_type": "stream",
     "text": [
      "users : 101 mdp : 123 autoriser a se connecter : autorisé\n",
      "users : 102 mdp : 456 autoriser a se connecter : Non autorisé\n"
     ]
    }
   ],
   "source": [
    "class Users():\n",
    "    def __init__ (self,id,passwd,autorisation):\n",
    "        self.id = id\n",
    "        self.passwd = passwd\n",
    "        self.autorisation = autorisation\n",
    "        \n",
    "        \n",
    "    def __str__ (self):\n",
    "        return \"users : {} mdp : {} autoriser a se connecter : {}\".format(self.id,self.passwd,self.autorisation)\n",
    "    \n",
    "    \n",
    "user1= Users(101,\"123\",\"autorisé\")\n",
    "user2= Users(102,\"456\",\"Non autorisé\")  \n",
    "print(user1)\n",
    "print(user2)\n",
    "        "
   ]
  },
  {
   "cell_type": "code",
   "execution_count": 18,
   "metadata": {},
   "outputs": [
    {
     "name": "stdout",
     "output_type": "stream",
     "text": [
      "cette vm a 8 go de ram, tourne sous linux et 256 go de memoire de stockage.\n"
     ]
    }
   ],
   "source": [
    "class virtual_machines():\n",
    "    def __init__ (self,ram,os,hd):\n",
    "        self.ram = ram\n",
    "        self.os = os\n",
    "        self.hd = hd \n",
    "        self.user_id = False\n",
    "        \n",
    "            \n",
    "    def connectuser(self,users):\n",
    "        if not self.user_id :\n",
    "            self.user_id = users.id \n",
    "            print(\"utilisateur connecté, user id: {}\".format(users.id))\n",
    "        elif users.id == self.user_id:\n",
    "            print(\"l utilisateur {} est deja connecté\".format(users.id))\n",
    "        else: \n",
    "            print(\"il y a deja un utilisateur connecté, user id: {}\".format(self.user_id))\n",
    "    \n",
    "    \n",
    "    \n",
    "    def deconnectuser(self,users):\n",
    "        if self.user_id == users.id:\n",
    "            print(\"l utilisateur{} est deconecté\".format(users.id))\n",
    "            self.user_id = False\n",
    "        elif self.user_id == False:\n",
    "            print(\"aucune connection\")\n",
    "        else: \n",
    "            print(\"cet utilisateur n est pas connecté\")\n",
    "      \n",
    "    def affichage(self):\n",
    "        print(self.ram,self.os,self.hd)\n",
    "        \n",
    "    def __str__ (self):\n",
    "        return \"cette vm a {} go de ram, tourne sous {} et {} go de memoire de stockage.\".format(self.ram,self.os,self.hd)\n",
    "    \n",
    "vm1=virtual_machines(8,\"linux\",256)   \n",
    "print(vm1)"
   ]
  },
  {
   "cell_type": "code",
   "execution_count": 21,
   "metadata": {},
   "outputs": [
    {
     "name": "stdout",
     "output_type": "stream",
     "text": [
      "l utilisateur 101 est deja connecté\n"
     ]
    }
   ],
   "source": [
    "\n",
    "  \n",
    "vm1.connectuser(user1)        "
   ]
  },
  {
   "cell_type": "code",
   "execution_count": 22,
   "metadata": {},
   "outputs": [
    {
     "name": "stdout",
     "output_type": "stream",
     "text": [
      "il y a deja un utilisateur connecté, user id: 101\n"
     ]
    }
   ],
   "source": [
    "vm1.connectuser(user2)"
   ]
  },
  {
   "cell_type": "code",
   "execution_count": 25,
   "metadata": {},
   "outputs": [
    {
     "name": "stdout",
     "output_type": "stream",
     "text": [
      "aucune connection\n"
     ]
    }
   ],
   "source": [
    "vm1.deconnectuser(user1)\n",
    "            "
   ]
  },
  {
   "cell_type": "code",
   "execution_count": null,
   "metadata": {},
   "outputs": [],
   "source": [
    "class virtual_machines2(virtual_machines):\n",
    "    def __init__ (self,ram,os,hd,version):\n",
    "        super() .__init__(ram,os,hd)\n",
    "        self.version = version\n",
    "        \n",
    "    def __str__ (self):\n",
    "        return super().__str__()+\" version: {} \".format(self.version)\n",
    "     \n",
    " \n",
    "vm2=virtual_machines2(8,\"windows\",256,\"famille\")\n",
    "print(vm2)\n",
    "\n",
    "    \n",
    "    \n"
   ]
  }
 ],
 "metadata": {
  "interpreter": {
   "hash": "1d63f421d0b44b8fbe361afa7f3185a3bd9135445dc52a58b64c3a5880331a42"
  },
  "kernelspec": {
   "display_name": "Python 3.9.12 ('base')",
   "language": "python",
   "name": "python3"
  },
  "language_info": {
   "codemirror_mode": {
    "name": "ipython",
    "version": 3
   },
   "file_extension": ".py",
   "mimetype": "text/x-python",
   "name": "python",
   "nbconvert_exporter": "python",
   "pygments_lexer": "ipython3",
   "version": "3.9.12"
  },
  "orig_nbformat": 4
 },
 "nbformat": 4,
 "nbformat_minor": 2
}
