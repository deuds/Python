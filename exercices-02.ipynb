{
 "cells": [
  {
   "cell_type": "markdown",
   "metadata": {},
   "source": [
    "## Deux par deux posez vous un problème de la vie avec des mots et codez le, exemple: \n",
    "Va à l’épicerie, si elle est ouverte (ouverte entre 08:00→12:00 et 14:00→18:00) prends 6 oeufs [coût 50 centimes par oeuf] (s’il y a 6 à prendre sinon prends le maximum), et prends 4 bouteilles de lait (**) [1.5 euros par bouteilles] et après fini avec ce que tu veux: chocolats 1 euros, bière premier prix 48 centimes bref etc…. mais ne dépasse pas 12 euros d’achat\n",
    "Le tout avec des fonctions… Sinon créez vous même votre exemple c’est le plus marrant\n"
   ]
  },
  {
   "cell_type": "markdown",
   "metadata": {},
   "source": [
    "### Décomposition du probleme en plusieurs parties qui donneront des fonctions :\n",
    "- Quelle heure est il ?\n",
    "- l'epicerie est elle ouverte ? 8H-12H et 14h-18h\n",
    "- combien il y a d'oeufs disponibles, en prendre 6 ou le max sil y en a moins de 6 (0,5e piece)\n",
    "- prendre 4 bouteilles de lait (1,5e piece)\n",
    "- quoi acheter avec le reste ?\n",
    "- budget max 12e"
   ]
  },
  {
   "cell_type": "markdown",
   "metadata": {},
   "source": [
    "# Correction"
   ]
  },
  {
   "cell_type": "code",
   "execution_count": 27,
   "metadata": {},
   "outputs": [],
   "source": [
    "H_matin_min = 8*60\n",
    "H_matin_max = 12*60\n",
    "H_midi_min = 14*60\n",
    "H_midi_max = 18*60\n",
    "tarif = dict ()\n",
    "tarif['oeuf'] = 0.5\n",
    "tarif['lait'] = 1.5\n",
    "tarif['biere'] = .48\n",
    "tarif['chocolat'] = 1"
   ]
  },
  {
   "cell_type": "code",
   "execution_count": 28,
   "metadata": {},
   "outputs": [],
   "source": [
    "def magasin_ouvert(heure,minute):\n",
    "\n",
    "    if heure < 0 or heure > 23 or minute < 0 or minute > 59 or type(heure)!=int or type(minute)!=int:\n",
    "        print(\"heure invalide\")\n",
    "        return False\n",
    "\n",
    "    le_temps = heure*60 + minute\n",
    "    if ((le_temps>=H_matin_min and le_temps<=H_matin_max) or (le_temps>=H_midi_min and le_temps<=H_midi_max)):\n",
    "        return True\n",
    "    else:\n",
    "        return False\n"
   ]
  },
  {
   "cell_type": "code",
   "execution_count": null,
   "metadata": {},
   "outputs": [],
   "source": [
    "magasin_ouvert(22,45)"
   ]
  },
  {
   "cell_type": "code",
   "execution_count": null,
   "metadata": {},
   "outputs": [],
   "source": [
    "from numpy.random import randint\n",
    "#import numpy\n",
    "\n",
    "def LeMec(budget = 12):\n",
    "    heure_de_sortie = randit(24)\n",
    "    minute_de_sortie = randit(60)\n",
    "    return budget,heure_de_sortie,minute_de_sortie\n",
    "\n",
    "LeMec()"
   ]
  },
  {
   "cell_type": "code",
   "execution_count": 19,
   "metadata": {},
   "outputs": [
    {
     "ename": "IndentationError",
     "evalue": "unexpected indent (1682330688.py, line 3)",
     "output_type": "error",
     "traceback": [
      "\u001b[1;36m  Input \u001b[1;32mIn [19]\u001b[1;36m\u001b[0m\n\u001b[1;33m    heure_cour = int()\u001b[0m\n\u001b[1;37m    ^\u001b[0m\n\u001b[1;31mIndentationError\u001b[0m\u001b[1;31m:\u001b[0m unexpected indent\n"
     ]
    }
   ],
   "source": [
    "# Quelle heure est il ?\n",
    "# def fonc_heurecour \n",
    "    heure_cour = int()\n",
    "    heure_valide = False\n",
    "    while heure_valide == False:\n",
    "        heure_cour = input(\"quelle heure est il ? entre 0 et 24 : \")\n",
    "\n",
    "        if heure_cour.isnumeric():\n",
    "            heure_cour = int(heure_cour)\n",
    "            if heure_cour >= 0 and heure_cour <= 24:\n",
    "                heure_valide = True\n",
    "                \n",
    "    print (heure_cour)\n",
    "    print (heure_valide)\n",
    "        \n"
   ]
  }
 ],
 "metadata": {
  "interpreter": {
   "hash": "a37869d91db9e4f8707847499683064f3c910b4697ac3b710908f94f17b4a718"
  },
  "kernelspec": {
   "display_name": "Python 3.9.13 64-bit (windows store)",
   "language": "python",
   "name": "python3"
  },
  "language_info": {
   "codemirror_mode": {
    "name": "ipython",
    "version": 3
   },
   "file_extension": ".py",
   "mimetype": "text/x-python",
   "name": "python",
   "nbconvert_exporter": "python",
   "pygments_lexer": "ipython3",
   "version": "3.9.13"
  },
  "orig_nbformat": 4
 },
 "nbformat": 4,
 "nbformat_minor": 2
}
